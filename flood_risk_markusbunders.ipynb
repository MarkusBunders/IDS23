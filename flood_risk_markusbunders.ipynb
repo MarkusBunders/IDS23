{
 "cells": [
  {
   "cell_type": "code",
   "execution_count": 1,
   "metadata": {},
   "outputs": [
    {
     "name": "stdout",
     "output_type": "stream",
     "text": [
      "POINT (25495000 6671000)\n",
      "POINT (25495001 6671000)\n",
      "POINT (25495002 6671000)\n",
      "POINT (25495003 6671000)\n",
      "POINT (25495004 6671000)\n",
      "POINT (25495005 6671000)\n",
      "POINT (25495006 6671000)\n",
      "POINT (25495007 6671000)\n",
      "POINT (25495008 6671000)\n",
      "POINT (25495009 6671000)\n",
      "        Elevation                          geometry\n",
      "0           5.879  POINT (25495000.000 6671000.000)\n",
      "1           5.890  POINT (25495001.000 6671000.000)\n",
      "2           5.902  POINT (25495002.000 6671000.000)\n",
      "3           5.917  POINT (25495003.000 6671000.000)\n",
      "4           5.938  POINT (25495004.000 6671000.000)\n",
      "...           ...                               ...\n",
      "742414      1.059  POINT (25495958.000 6672000.000)\n",
      "742415      1.058  POINT (25495959.000 6672000.000)\n",
      "742416      1.051  POINT (25495960.000 6672000.000)\n",
      "742417      1.023  POINT (25495961.000 6672000.000)\n",
      "742418      1.025  POINT (25495962.000 6672000.000)\n",
      "\n",
      "[742419 rows x 2 columns]\n"
     ]
    },
    {
     "name": "stderr",
     "output_type": "stream",
     "text": [
      "C:\\Users\\marku\\AppData\\Local\\Temp\\ipykernel_18820\\3201061413.py:69: FutureWarning: Calling float on a single element Series is deprecated and will raise a TypeError in the future. Use float(ser.iloc[0]) instead\n",
      "  el_dif=float(el_1) - float(el_2)\n"
     ]
    },
    {
     "name": "stdout",
     "output_type": "stream",
     "text": [
      "0.09100000000000019\n",
      "                           geometry\n",
      "0  POINT (25495099.000 6671001.000)\n",
      "1  POINT (25495101.000 6671001.000)\n",
      "2  POINT (25495100.000 6671001.000)\n",
      "3  POINT (25495099.000 6670999.000)\n",
      "4  POINT (25495101.000 6670999.000)\n",
      "5  POINT (25495100.000 6670999.000)\n",
      "6  POINT (25495099.000 6671000.000)\n",
      "7  POINT (25495101.000 6671000.000)\n",
      "POINT (25495099 6671001)\n"
     ]
    },
    {
     "name": "stderr",
     "output_type": "stream",
     "text": [
      "C:\\Users\\marku\\AppData\\Local\\Temp\\ipykernel_18820\\3201061413.py:69: FutureWarning: Calling float on a single element Series is deprecated and will raise a TypeError in the future. Use float(ser.iloc[0]) instead\n",
      "  el_dif=float(el_1) - float(el_2)\n"
     ]
    },
    {
     "name": "stdout",
     "output_type": "stream",
     "text": [
      "POINT (25495101 6671001)\n"
     ]
    },
    {
     "name": "stderr",
     "output_type": "stream",
     "text": [
      "C:\\Users\\marku\\AppData\\Local\\Temp\\ipykernel_18820\\3201061413.py:69: FutureWarning: Calling float on a single element Series is deprecated and will raise a TypeError in the future. Use float(ser.iloc[0]) instead\n",
      "  el_dif=float(el_1) - float(el_2)\n"
     ]
    },
    {
     "name": "stdout",
     "output_type": "stream",
     "text": [
      "POINT (25495100 6671001)\n"
     ]
    },
    {
     "name": "stderr",
     "output_type": "stream",
     "text": [
      "C:\\Users\\marku\\AppData\\Local\\Temp\\ipykernel_18820\\3201061413.py:69: FutureWarning: Calling float on a single element Series is deprecated and will raise a TypeError in the future. Use float(ser.iloc[0]) instead\n",
      "  el_dif=float(el_1) - float(el_2)\n"
     ]
    },
    {
     "name": "stdout",
     "output_type": "stream",
     "text": [
      "POINT (25495099 6670999)\n"
     ]
    },
    {
     "name": "stderr",
     "output_type": "stream",
     "text": [
      "C:\\Users\\marku\\AppData\\Local\\Temp\\ipykernel_18820\\3201061413.py:69: FutureWarning: Calling float on a single element Series is deprecated and will raise a TypeError in the future. Use float(ser.iloc[0]) instead\n",
      "  el_dif=float(el_1) - float(el_2)\n"
     ]
    },
    {
     "ename": "TypeError",
     "evalue": "cannot convert the series to <class 'float'>",
     "output_type": "error",
     "traceback": [
      "\u001b[1;31m---------------------------------------------------------------------------\u001b[0m",
      "\u001b[1;31mTypeError\u001b[0m                                 Traceback (most recent call last)",
      "\u001b[1;32mc:\\Users\\marku\\OneDrive\\Documents\\IDS\\flood_risk_markusbunders.ipynb Cell 1\u001b[0m line \u001b[0;36m8\n\u001b[0;32m     <a href='vscode-notebook-cell:/c%3A/Users/marku/OneDrive/Documents/IDS/flood_risk_markusbunders.ipynb#W0sZmlsZQ%3D%3D?line=84'>85</a>\u001b[0m    \u001b[39mif\u001b[39;00m neibs[\u001b[39m'\u001b[39m\u001b[39mgeometry\u001b[39m\u001b[39m'\u001b[39m][i]\u001b[39m!=\u001b[39m\u001b[39m\"\u001b[39m\u001b[39mnull\u001b[39m\u001b[39m\"\u001b[39m:\n\u001b[0;32m     <a href='vscode-notebook-cell:/c%3A/Users/marku/OneDrive/Documents/IDS/flood_risk_markusbunders.ipynb#W0sZmlsZQ%3D%3D?line=85'>86</a>\u001b[0m        \u001b[39mprint\u001b[39m(neibs[\u001b[39m'\u001b[39m\u001b[39mgeometry\u001b[39m\u001b[39m'\u001b[39m][i])\n\u001b[1;32m---> <a href='vscode-notebook-cell:/c%3A/Users/marku/OneDrive/Documents/IDS/flood_risk_markusbunders.ipynb#W0sZmlsZQ%3D%3D?line=86'>87</a>\u001b[0m        el_dif\u001b[39m.\u001b[39mappend(elev_dif(center, neibs[\u001b[39m'\u001b[39;49m\u001b[39mgeometry\u001b[39;49m\u001b[39m'\u001b[39;49m][i]))\n\u001b[0;32m     <a href='vscode-notebook-cell:/c%3A/Users/marku/OneDrive/Documents/IDS/flood_risk_markusbunders.ipynb#W0sZmlsZQ%3D%3D?line=87'>88</a>\u001b[0m    \u001b[39m#print(el_dif)\u001b[39;00m\n\u001b[0;32m     <a href='vscode-notebook-cell:/c%3A/Users/marku/OneDrive/Documents/IDS/flood_risk_markusbunders.ipynb#W0sZmlsZQ%3D%3D?line=89'>90</a>\u001b[0m \u001b[39mprint\u001b[39m(el_dif)\n",
      "\u001b[1;32mc:\\Users\\marku\\OneDrive\\Documents\\IDS\\flood_risk_markusbunders.ipynb Cell 1\u001b[0m line \u001b[0;36m6\n\u001b[0;32m     <a href='vscode-notebook-cell:/c%3A/Users/marku/OneDrive/Documents/IDS/flood_risk_markusbunders.ipynb#W0sZmlsZQ%3D%3D?line=65'>66</a>\u001b[0m el_1\u001b[39m=\u001b[39mgeo_spatial_elevation_data\u001b[39m.\u001b[39mloc[geo_spatial_elevation_data[\u001b[39m'\u001b[39m\u001b[39mgeometry\u001b[39m\u001b[39m'\u001b[39m]\u001b[39m==\u001b[39mcenter, \u001b[39m'\u001b[39m\u001b[39mElevation\u001b[39m\u001b[39m'\u001b[39m]\n\u001b[0;32m     <a href='vscode-notebook-cell:/c%3A/Users/marku/OneDrive/Documents/IDS/flood_risk_markusbunders.ipynb#W0sZmlsZQ%3D%3D?line=66'>67</a>\u001b[0m el_2\u001b[39m=\u001b[39mgeo_spatial_elevation_data\u001b[39m.\u001b[39mloc[geo_spatial_elevation_data[\u001b[39m'\u001b[39m\u001b[39mgeometry\u001b[39m\u001b[39m'\u001b[39m]\u001b[39m==\u001b[39msquare, \u001b[39m'\u001b[39m\u001b[39mElevation\u001b[39m\u001b[39m'\u001b[39m]\n\u001b[1;32m---> <a href='vscode-notebook-cell:/c%3A/Users/marku/OneDrive/Documents/IDS/flood_risk_markusbunders.ipynb#W0sZmlsZQ%3D%3D?line=68'>69</a>\u001b[0m el_dif\u001b[39m=\u001b[39m\u001b[39mfloat\u001b[39m(el_1) \u001b[39m-\u001b[39m \u001b[39mfloat\u001b[39;49m(el_2)\n\u001b[0;32m     <a href='vscode-notebook-cell:/c%3A/Users/marku/OneDrive/Documents/IDS/flood_risk_markusbunders.ipynb#W0sZmlsZQ%3D%3D?line=70'>71</a>\u001b[0m \u001b[39mreturn\u001b[39;00m el_dif\n",
      "File \u001b[1;32m~\\AppData\\Local\\Packages\\PythonSoftwareFoundation.Python.3.11_qbz5n2kfra8p0\\LocalCache\\local-packages\\Python311\\site-packages\\pandas\\core\\series.py:230\u001b[0m, in \u001b[0;36m_coerce_method.<locals>.wrapper\u001b[1;34m(self)\u001b[0m\n\u001b[0;32m    222\u001b[0m     warnings\u001b[39m.\u001b[39mwarn(\n\u001b[0;32m    223\u001b[0m         \u001b[39mf\u001b[39m\u001b[39m\"\u001b[39m\u001b[39mCalling \u001b[39m\u001b[39m{\u001b[39;00mconverter\u001b[39m.\u001b[39m\u001b[39m__name__\u001b[39m\u001b[39m}\u001b[39;00m\u001b[39m on a single element Series is \u001b[39m\u001b[39m\"\u001b[39m\n\u001b[0;32m    224\u001b[0m         \u001b[39m\"\u001b[39m\u001b[39mdeprecated and will raise a TypeError in the future. \u001b[39m\u001b[39m\"\u001b[39m\n\u001b[1;32m   (...)\u001b[0m\n\u001b[0;32m    227\u001b[0m         stacklevel\u001b[39m=\u001b[39mfind_stack_level(),\n\u001b[0;32m    228\u001b[0m     )\n\u001b[0;32m    229\u001b[0m     \u001b[39mreturn\u001b[39;00m converter(\u001b[39mself\u001b[39m\u001b[39m.\u001b[39miloc[\u001b[39m0\u001b[39m])\n\u001b[1;32m--> 230\u001b[0m \u001b[39mraise\u001b[39;00m \u001b[39mTypeError\u001b[39;00m(\u001b[39mf\u001b[39m\u001b[39m\"\u001b[39m\u001b[39mcannot convert the series to \u001b[39m\u001b[39m{\u001b[39;00mconverter\u001b[39m}\u001b[39;00m\u001b[39m\"\u001b[39m)\n",
      "\u001b[1;31mTypeError\u001b[0m: cannot convert the series to <class 'float'>"
     ]
    }
   ],
   "source": [
    " # Load all importance packages\n",
    "import geopandas as gpd\n",
    "import numpy as np\n",
    "import pandas as pd\n",
    "from shapely.geometry import Point\n",
    "\n",
    "import seaborn as sns\n",
    "import matplotlib.pyplot as plt\n",
    "from owslib.wms import WebMapService\n",
    "\n",
    "spatial_elevation_data = np.loadtxt('C:/Users/marku/OneDrive/Documents/IDS/mini_project/1x1m_671495.xyz')\n",
    "#print(spatial_elevation_data)\n",
    "df_spatial_elevation = pd.DataFrame(spatial_elevation_data, columns =['X', 'Y', 'Elevation'])\n",
    "#print(df_spatial_elevation)\n",
    "\n",
    "geo_spatial_elevation_data = gpd.GeoDataFrame(df_spatial_elevation, geometry=gpd.points_from_xy(df_spatial_elevation.X, df_spatial_elevation.Y), crs=\"EPSG:3879\")\n",
    "geo_spatial_elevation_data = geo_spatial_elevation_data.drop(['X', 'Y'], axis=1)\n",
    "\n",
    "for i in range(0,10):\n",
    "    print(geo_spatial_elevation_data['geometry'][i])\n",
    "\n",
    "\n",
    "\n",
    "# Coordinates are at this point in ETRS GK-25. Definition of this coordinate system can be found in https://epsg.io/3879\n",
    "\n",
    "# Counting neighboring squares for every square\n",
    "\n",
    "# Method returns the adjacent squares of the input square given as a parameter. \n",
    "# Adjacent squares are counted by deducting or adding one unit to the coordinate. \n",
    "# This means the squares on the edge of the map will have an adjacent square outside of the map but for the purpose of the method this doesn't matter.\n",
    "# The adjacent square is an appromixation. The exact position of the adjacent squares would require heavy calculation for eache the 742k squares and is not \n",
    "#  practical or necessary in the context of this exercise.\n",
    "\n",
    "def neigh(square):\n",
    "\n",
    "    center_x=square.centroid.x\n",
    "    center_y=square.centroid.y\n",
    "    \n",
    "\n",
    "    df_adjs = pd.DataFrame(\n",
    "    {\n",
    "        \"X\": [center_x-1, center_x+1, center_x+0, center_x-1, center_x+1, center_x+0, center_x-1, center_x+1],\n",
    "        \"Y\": [center_y+1, center_y+1, center_y+1, center_y-1, center_y-1, center_y-1, center_y+0, center_y+0]\n",
    "    })\n",
    "\n",
    "    gdf_neigh = gpd.GeoDataFrame(df_adjs, geometry=gpd.points_from_xy(df_adjs.X, df_adjs.Y), crs=\"EPSG:3879\")\n",
    "    gdf_neigh=gdf_neigh.drop(['X', 'Y'], axis=1)\n",
    "\n",
    "    return gdf_neigh\n",
    "\n",
    "#print(neigh(geo_spatial_elevation_data['geometry'][0]))\n",
    "\n",
    "# Counting adjacent squares for eache square and putting them in the same dataframe with the square coordinates and elevation. STORING NOT YET DONE!\n",
    "# Using a method that is not accurate but sufficient to the scope of this implemenation (see technincal document for elaboration)\n",
    "\n",
    "print(geo_spatial_elevation_data)\n",
    "\n",
    "for i in range(100000, 100010):\n",
    "    \n",
    "    neibs=neigh(geo_spatial_elevation_data['geometry'][i])\n",
    "\n",
    "# Elevation difference of adjacent square relative to the center square\n",
    "\n",
    "def elev_dif(center, square):\n",
    "    \n",
    "    el_1=geo_spatial_elevation_data.loc[geo_spatial_elevation_data['geometry']==center, 'Elevation']\n",
    "    el_2=geo_spatial_elevation_data.loc[geo_spatial_elevation_data['geometry']==square, 'Elevation']\n",
    "\n",
    "    el_dif=float(el_1) - float(el_2)\n",
    "\n",
    "    return el_dif\n",
    "\n",
    "print(elev_dif(geo_spatial_elevation_data['geometry'][100], geo_spatial_elevation_data['geometry'][101]))\n",
    "\n",
    "# Now counting neighbourghs for a point and the relative elevation (=elevation difference to those neighbours)\n",
    " \n",
    "center= geo_spatial_elevation_data['geometry'][100]\n",
    "neibs=neigh(center)\n",
    "print(neibs)\n",
    "#print(center)\n",
    "el_dif=[]\n",
    "\n",
    "for i in range(0,len(neibs)):\n",
    "    \n",
    "    if neibs['geometry'][i]!=\"null\":\n",
    "        print(neibs['geometry'][i])\n",
    "        el_dif.append(elev_dif(center, neibs['geometry'][i]))\n",
    "    #print(el_dif)\n",
    "\n",
    "print(el_dif)\n",
    "\n",
    "\n"
   ]
  }
 ],
 "metadata": {
  "kernelspec": {
   "display_name": "Python 3",
   "language": "python",
   "name": "python3"
  },
  "language_info": {
   "codemirror_mode": {
    "name": "ipython",
    "version": 3
   },
   "file_extension": ".py",
   "mimetype": "text/x-python",
   "name": "python",
   "nbconvert_exporter": "python",
   "pygments_lexer": "ipython3",
   "version": "3.11.6"
  }
 },
 "nbformat": 4,
 "nbformat_minor": 2
}
